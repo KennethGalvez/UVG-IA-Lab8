{
 "cells": [
  {
   "cell_type": "code",
   "execution_count": 60,
   "id": "df4210f5",
   "metadata": {},
   "outputs": [],
   "source": [
    "import pandas as pd\n",
    "from sklearn.cluster import KMeans\n",
    "from sklearn.preprocessing import StandardScaler"
   ]
  },
  {
   "cell_type": "code",
   "execution_count": 61,
   "id": "7a191b95",
   "metadata": {},
   "outputs": [],
   "source": [
    "data = pd.read_csv('clean.csv')"
   ]
  },
  {
   "cell_type": "code",
   "execution_count": 63,
   "id": "8a37f338",
   "metadata": {},
   "outputs": [
    {
     "data": {
      "text/html": [
       "<div>\n",
       "<style scoped>\n",
       "    .dataframe tbody tr th:only-of-type {\n",
       "        vertical-align: middle;\n",
       "    }\n",
       "\n",
       "    .dataframe tbody tr th {\n",
       "        vertical-align: top;\n",
       "    }\n",
       "\n",
       "    .dataframe thead th {\n",
       "        text-align: right;\n",
       "    }\n",
       "</style>\n",
       "<table border=\"1\" class=\"dataframe\">\n",
       "  <thead>\n",
       "    <tr style=\"text-align: right;\">\n",
       "      <th></th>\n",
       "      <th>CustomerDOB</th>\n",
       "      <th>CustGender</th>\n",
       "      <th>CustAccountBalance</th>\n",
       "      <th>TransactionDate</th>\n",
       "      <th>TransactionTime</th>\n",
       "      <th>TransactionAmount (INR)</th>\n",
       "    </tr>\n",
       "  </thead>\n",
       "  <tbody>\n",
       "    <tr>\n",
       "      <th>count</th>\n",
       "      <td>901358.000000</td>\n",
       "      <td>901358.000000</td>\n",
       "      <td>9.013580e+05</td>\n",
       "      <td>901358.000000</td>\n",
       "      <td>901358.000000</td>\n",
       "      <td>9.013580e+05</td>\n",
       "    </tr>\n",
       "    <tr>\n",
       "      <th>mean</th>\n",
       "      <td>1986.972672</td>\n",
       "      <td>0.723298</td>\n",
       "      <td>8.173280e+04</td>\n",
       "      <td>29.631584</td>\n",
       "      <td>15.464395</td>\n",
       "      <td>1.298540e+03</td>\n",
       "    </tr>\n",
       "    <tr>\n",
       "      <th>std</th>\n",
       "      <td>5.512324</td>\n",
       "      <td>0.447368</td>\n",
       "      <td>3.981005e+05</td>\n",
       "      <td>11.804388</td>\n",
       "      <td>5.162824</td>\n",
       "      <td>5.475934e+03</td>\n",
       "    </tr>\n",
       "    <tr>\n",
       "      <th>min</th>\n",
       "      <td>1973.000000</td>\n",
       "      <td>0.000000</td>\n",
       "      <td>0.000000e+00</td>\n",
       "      <td>1.000000</td>\n",
       "      <td>0.000000</td>\n",
       "      <td>0.000000e+00</td>\n",
       "    </tr>\n",
       "    <tr>\n",
       "      <th>25%</th>\n",
       "      <td>1983.000000</td>\n",
       "      <td>0.000000</td>\n",
       "      <td>4.268000e+03</td>\n",
       "      <td>23.000000</td>\n",
       "      <td>12.000000</td>\n",
       "      <td>1.480000e+02</td>\n",
       "    </tr>\n",
       "    <tr>\n",
       "      <th>50%</th>\n",
       "      <td>1988.000000</td>\n",
       "      <td>1.000000</td>\n",
       "      <td>1.479800e+04</td>\n",
       "      <td>33.000000</td>\n",
       "      <td>16.000000</td>\n",
       "      <td>4.000000e+02</td>\n",
       "    </tr>\n",
       "    <tr>\n",
       "      <th>75%</th>\n",
       "      <td>1991.000000</td>\n",
       "      <td>1.000000</td>\n",
       "      <td>4.750900e+04</td>\n",
       "      <td>36.000000</td>\n",
       "      <td>20.000000</td>\n",
       "      <td>1.020000e+03</td>\n",
       "    </tr>\n",
       "    <tr>\n",
       "      <th>max</th>\n",
       "      <td>2020.000000</td>\n",
       "      <td>1.000000</td>\n",
       "      <td>4.316556e+07</td>\n",
       "      <td>49.000000</td>\n",
       "      <td>23.000000</td>\n",
       "      <td>1.560035e+06</td>\n",
       "    </tr>\n",
       "  </tbody>\n",
       "</table>\n",
       "</div>"
      ],
      "text/plain": [
       "         CustomerDOB     CustGender  CustAccountBalance  TransactionDate  \\\n",
       "count  901358.000000  901358.000000        9.013580e+05    901358.000000   \n",
       "mean     1986.972672       0.723298        8.173280e+04        29.631584   \n",
       "std         5.512324       0.447368        3.981005e+05        11.804388   \n",
       "min      1973.000000       0.000000        0.000000e+00         1.000000   \n",
       "25%      1983.000000       0.000000        4.268000e+03        23.000000   \n",
       "50%      1988.000000       1.000000        1.479800e+04        33.000000   \n",
       "75%      1991.000000       1.000000        4.750900e+04        36.000000   \n",
       "max      2020.000000       1.000000        4.316556e+07        49.000000   \n",
       "\n",
       "       TransactionTime  TransactionAmount (INR)  \n",
       "count    901358.000000             9.013580e+05  \n",
       "mean         15.464395             1.298540e+03  \n",
       "std           5.162824             5.475934e+03  \n",
       "min           0.000000             0.000000e+00  \n",
       "25%          12.000000             1.480000e+02  \n",
       "50%          16.000000             4.000000e+02  \n",
       "75%          20.000000             1.020000e+03  \n",
       "max          23.000000             1.560035e+06  "
      ]
     },
     "execution_count": 63,
     "metadata": {},
     "output_type": "execute_result"
    }
   ],
   "source": [
    "data.describe()"
   ]
  },
  {
   "cell_type": "markdown",
   "id": "558b840c",
   "metadata": {},
   "source": [
    "# Con librerias"
   ]
  },
  {
   "cell_type": "code",
   "execution_count": 122,
   "id": "c9333a20",
   "metadata": {},
   "outputs": [
    {
     "name": "stderr",
     "output_type": "stream",
     "text": [
      "c:\\users\\juanc\\appdata\\local\\programs\\python\\python38\\lib\\site-packages\\sklearn\\cluster\\_kmeans.py:870: FutureWarning: The default value of `n_init` will change from 10 to 'auto' in 1.4. Set the value of `n_init` explicitly to suppress the warning\n",
      "  warnings.warn(\n"
     ]
    },
    {
     "data": {
      "image/png": "[encoded data removed]",
      "text/plain": [
       "<Figure size 640x480 with 1 Axes>"
      ]
     },
     "metadata": {},
     "output_type": "display_data"
    },
    {
     "name": "stdout",
     "output_type": "stream",
     "text": [
      "1377135.3807808578\n"
     ]
    }
   ],
   "source": [
    "import numpy as np\n",
    "import matplotlib.pyplot as plt\n",
    "from sklearn.decomposition import PCA\n",
    "from sklearn.cluster import KMeans\n",
    "from sklearn.pipeline import Pipeline\n",
    "from sklearn.datasets import make_blobs\n",
    "from sklearn.metrics import silhouette_score\n",
    "\n",
    "scaler = StandardScaler()\n",
    "data_scaled = scaler.fit_transform(data)\n",
    "\n",
    "# crear un objeto PCA con el número de componentes principales que desees\n",
    "pca = PCA(n_components=2)\n",
    "\n",
    "# crear un objeto K-means con el número de clusters que desees\n",
    "kmeans = KMeans(n_clusters=2)\n",
    "\n",
    "# crear un pipeline que primero aplique PCA y luego K-means\n",
    "pipeline = Pipeline([('pca', pca), ('kmeans', kmeans)])\n",
    "\n",
    "# ajustar el pipeline al conjunto de datos\n",
    "pipeline.fit(data_scaled)\n",
    "\n",
    "# obtener las etiquetas de los clusters asignados por K-means\n",
    "labels = pipeline.predict(data_scaled)\n",
    "\n",
    "# obtener las coordenadas de las componentes principales\n",
    "components = pipeline.named_steps['pca'].transform(data_scaled)\n",
    "\n",
    "# graficar los puntos coloreados por cluster\n",
    "plt.scatter(components[:, 0], components[:, 1], c=labels)\n",
    "plt.title('PCA + K-means')\n",
    "plt.xlabel('PCA1')\n",
    "plt.ylabel('PCA2')\n",
    "plt.show()\n",
    "\n",
    "inertia = kmeans.inertia_\n",
    "\n",
    "print(inertia)"
   ]
  },
  {
   "cell_type": "markdown",
   "id": "691aefeb",
   "metadata": {},
   "source": [
    "# Sin Librerias"
   ]
  },
  {
   "cell_type": "code",
   "execution_count": 117,
   "id": "67e70830",
   "metadata": {},
   "outputs": [],
   "source": [
    "import numpy as np\n",
    "import pandas as pd\n",
    "import matplotlib.pyplot as plt\n",
    "\n",
    "def kmeans(df, k, num_iterations):\n",
    "    # Selecciona k centroides iniciales al azar\n",
    "    centroids = df.sample(k).values\n",
    "\n",
    "    # Itera el algoritmo\n",
    "    for i in range(num_iterations):\n",
    "        # Calcula la distancia euclidiana entre cada punto y cada centroide\n",
    "        distances = np.sqrt(((df.values - centroids[:, np.newaxis])**2).sum(axis=2))\n",
    "\n",
    "        # Asigna cada punto al centroide más cercano\n",
    "        labels = np.argmin(distances, axis=0)\n",
    "\n",
    "        # Actualiza los centroides como el promedio de los puntos asignados a él\n",
    "        for j in range(k):\n",
    "            centroids[j] = np.mean(df[labels == j], axis=0)\n",
    "\n",
    "    # Calcula la inercia\n",
    "    inertia = ((df.values - centroids[:, np.newaxis])**2).sum()\n",
    "            \n",
    "    # Retorna las etiquetas finales y los centroides finales\n",
    "    return labels, centroids, inertia\n"
   ]
  },
  {
   "cell_type": "code",
   "execution_count": 118,
   "id": "81d6b11e",
   "metadata": {},
   "outputs": [
    {
     "data": {
      "image/png": "[encoded data removed]",
      "text/plain": [
       "<Figure size 640x480 with 1 Axes>"
      ]
     },
     "metadata": {},
     "output_type": "display_data"
    },
    {
     "name": "stdout",
     "output_type": "stream",
     "text": [
      "1.6470513515512695e+19\n"
     ]
    }
   ],
   "source": [
    "# Genera datos de ejemplo\n",
    "scaler = StandardScaler()\n",
    "data_scaled = scaler.fit_transform(data)\n",
    "pca = PCA(n_components=2)\n",
    "pca.fit(data)\n",
    "\n",
    "# Transformar los datos originales en la matriz de componentes principales\n",
    "X_pca = pca.transform(data)\n",
    "df_pca = pd.DataFrame(data=X_pca, columns=['PC1', 'PC2'])\n",
    "\n",
    "X_pca.shape\n",
    "\n",
    "# Aplica k-means\n",
    "labels, centroids, inertia = kmeans(df_pca, k=2, num_iterations=10)\n",
    "\n",
    "fig, ax = plt.subplots()\n",
    "colors = ['red', 'green', 'blue']\n",
    "ax.scatter(df_pca['PC1'], df_pca['PC2'], c=[colors[label] for label in labels])\n",
    "ax.scatter(centroids[:, 0], centroids[:, 1], marker='*', s=200, c='black')\n",
    "plt.show()\n",
    "print(inertia)\n"
   ]
  },
  {
   "cell_type": "code",
   "execution_count": null,
   "id": "1c95d987",
   "metadata": {},
   "outputs": [],
   "source": []
  }
 ],
 "metadata": {
  "kernelspec": {
   "display_name": "Python 3 (ipykernel)",
   "language": "python",
   "name": "python3"
  },
  "language_info": {
   "codemirror_mode": {
    "name": "ipython",
    "version": 3
   },
   "file_extension": ".py",
   "mimetype": "text/x-python",
   "name": "python",
   "nbconvert_exporter": "python",
   "pygments_lexer": "ipython3",
   "version": "3.8.8"
  }
 },
 "nbformat": 4,
 "nbformat_minor": 5
}
