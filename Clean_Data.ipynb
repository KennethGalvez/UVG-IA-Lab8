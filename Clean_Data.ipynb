{
 "cells": [
  {
   "cell_type": "code",
   "execution_count": 1,
   "id": "e3775496",
   "metadata": {},
   "outputs": [],
   "source": [
    "import pandas as pd\n",
    "import numpy as np\n",
    "from sklearn import preprocessing\n",
    "from ydata_profiling import ProfileReport"
   ]
  },
  {
   "cell_type": "code",
   "execution_count": 2,
   "id": "fcd48c4a",
   "metadata": {},
   "outputs": [],
   "source": [
    "data = pd.read_csv(\"bank_transactions.csv\", low_memory=False)"
   ]
  },
  {
   "cell_type": "code",
   "execution_count": 3,
   "id": "5fd70ecb",
   "metadata": {},
   "outputs": [],
   "source": [
    "data['TransactionTime'] = data['TransactionTime'].apply(lambda x: x / 10000)\n",
    "data['TransactionTime'] = np.floor(data['TransactionTime'])\n",
    "data['CustAccountBalance'] = np.floor(data['CustAccountBalance'])"
   ]
  },
  {
   "cell_type": "code",
   "execution_count": 4,
   "id": "b91d763e",
   "metadata": {},
   "outputs": [
    {
     "name": "stderr",
     "output_type": "stream",
     "text": [
      "C:\\Users\\juanc\\AppData\\Local\\Temp\\ipykernel_14264\\2426850851.py:12: FutureWarning: Series.dt.weekofyear and Series.dt.week have been deprecated. Please use Series.dt.isocalendar().week instead.\n",
      "  data['TransactionDate'] = data['TransactionDate'].dt.week\n"
     ]
    }
   ],
   "source": [
    "data['CustomerDOB'] = pd.to_datetime(data['CustomerDOB'])\n",
    "data['TransactionDate'] = pd.to_datetime(data['TransactionDate'])\n",
    "indices = data.loc[data['CustomerDOB'].dt.year < 1900].index\n",
    "# Eliminar las filas seleccionadas del DataFrame\n",
    "data.drop(indices, inplace=True)\n",
    "indices = data.loc[data['CustomerDOB'].dt.year > 2020].index\n",
    "# Eliminar las filas seleccionadas del DataFrame\n",
    "data.drop(indices, inplace=True)\n",
    "\n",
    "\n",
    "data['CustomerDOB'] = data['CustomerDOB'].dt.year\n",
    "data['TransactionDate'] = data['TransactionDate'].dt.week\n"
   ]
  },
  {
   "cell_type": "code",
   "execution_count": 5,
   "id": "34817c73",
   "metadata": {},
   "outputs": [],
   "source": [
    "data = data.dropna()"
   ]
  },
  {
   "cell_type": "code",
   "execution_count": 6,
   "id": "2c2f4a87",
   "metadata": {},
   "outputs": [],
   "source": [
    "indices = data.loc[data['CustGender'] == 'T'].index\n",
    "\n",
    "# Eliminar las filas seleccionadas del DataFrame\n",
    "data.drop(indices, inplace=True)\n",
    "mapeo = {'F': 0, 'M': 1,}\n",
    "\n",
    "# Aplicar la función map() a la columna 'género' para convertir los valores en valores numéricos\n",
    "data['CustGender'] = data['CustGender'].map(mapeo)"
   ]
  },
  {
   "cell_type": "code",
   "execution_count": 7,
   "id": "2e1125b1",
   "metadata": {},
   "outputs": [],
   "source": [
    "#ubicacion_dummy = pd.get_dummies(data['CustLocation'])\n",
    "\n",
    "# Concatenar el DataFrame original con el DataFrame de variables dummy\n",
    "#data = pd.concat([data, ubicacion_dummy], axis=1)"
   ]
  },
  {
   "cell_type": "code",
   "execution_count": 8,
   "id": "6cf59682",
   "metadata": {},
   "outputs": [],
   "source": [
    "data = data.loc[:, data.columns != 'CustLocation']\n",
    "data = data.loc[:, data.columns != 'TransactionID']\n",
    "data = data.loc[:, data.columns != 'CustomerID']\n",
    "data = data.loc[:, data.columns != 'CustLocation']"
   ]
  },
  {
   "cell_type": "code",
   "execution_count": 9,
   "id": "990ebaf0",
   "metadata": {},
   "outputs": [],
   "source": [
    "#x = data.values #returns a numpy array\n",
    "#min_max_scaler = preprocessing.MinMaxScaler()\n",
    "#x_scaled = min_max_scaler.fit_transform(x)\n",
    "#data = pd.DataFrame(x_scaled)"
   ]
  },
  {
   "cell_type": "code",
   "execution_count": 10,
   "id": "48295b44",
   "metadata": {
    "scrolled": true
   },
   "outputs": [
    {
     "data": {
      "text/html": [
       "<div>\n",
       "<style scoped>\n",
       "    .dataframe tbody tr th:only-of-type {\n",
       "        vertical-align: middle;\n",
       "    }\n",
       "\n",
       "    .dataframe tbody tr th {\n",
       "        vertical-align: top;\n",
       "    }\n",
       "\n",
       "    .dataframe thead th {\n",
       "        text-align: right;\n",
       "    }\n",
       "</style>\n",
       "<table border=\"1\" class=\"dataframe\">\n",
       "  <thead>\n",
       "    <tr style=\"text-align: right;\">\n",
       "      <th></th>\n",
       "      <th>CustomerDOB</th>\n",
       "      <th>CustGender</th>\n",
       "      <th>CustAccountBalance</th>\n",
       "      <th>TransactionDate</th>\n",
       "      <th>TransactionTime</th>\n",
       "      <th>TransactionAmount (INR)</th>\n",
       "    </tr>\n",
       "  </thead>\n",
       "  <tbody>\n",
       "    <tr>\n",
       "      <th>0</th>\n",
       "      <td>1994.0</td>\n",
       "      <td>0</td>\n",
       "      <td>17819.0</td>\n",
       "      <td>6</td>\n",
       "      <td>14.0</td>\n",
       "      <td>25.0</td>\n",
       "    </tr>\n",
       "    <tr>\n",
       "      <th>2</th>\n",
       "      <td>1996.0</td>\n",
       "      <td>0</td>\n",
       "      <td>17874.0</td>\n",
       "      <td>6</td>\n",
       "      <td>14.0</td>\n",
       "      <td>459.0</td>\n",
       "    </tr>\n",
       "    <tr>\n",
       "      <th>3</th>\n",
       "      <td>1973.0</td>\n",
       "      <td>0</td>\n",
       "      <td>866503.0</td>\n",
       "      <td>6</td>\n",
       "      <td>14.0</td>\n",
       "      <td>2060.0</td>\n",
       "    </tr>\n",
       "    <tr>\n",
       "      <th>4</th>\n",
       "      <td>1988.0</td>\n",
       "      <td>0</td>\n",
       "      <td>6714.0</td>\n",
       "      <td>6</td>\n",
       "      <td>18.0</td>\n",
       "      <td>1762.5</td>\n",
       "    </tr>\n",
       "    <tr>\n",
       "      <th>6</th>\n",
       "      <td>1992.0</td>\n",
       "      <td>0</td>\n",
       "      <td>973.0</td>\n",
       "      <td>6</td>\n",
       "      <td>17.0</td>\n",
       "      <td>566.0</td>\n",
       "    </tr>\n",
       "  </tbody>\n",
       "</table>\n",
       "</div>"
      ],
      "text/plain": [
       "   CustomerDOB  CustGender  CustAccountBalance  TransactionDate  \\\n",
       "0       1994.0           0             17819.0                6   \n",
       "2       1996.0           0             17874.0                6   \n",
       "3       1973.0           0            866503.0                6   \n",
       "4       1988.0           0              6714.0                6   \n",
       "6       1992.0           0               973.0                6   \n",
       "\n",
       "   TransactionTime  TransactionAmount (INR)  \n",
       "0             14.0                     25.0  \n",
       "2             14.0                    459.0  \n",
       "3             14.0                   2060.0  \n",
       "4             18.0                   1762.5  \n",
       "6             17.0                    566.0  "
      ]
     },
     "execution_count": 10,
     "metadata": {},
     "output_type": "execute_result"
    }
   ],
   "source": [
    "data.head()"
   ]
  },
  {
   "cell_type": "code",
   "execution_count": 12,
   "id": "5cfcb9b4",
   "metadata": {},
   "outputs": [],
   "source": [
    "data.to_csv('cleaned_bank_transactions.csv', index=False)"
   ]
  },
  {
   "cell_type": "code",
   "execution_count": null,
   "id": "d343ed32",
   "metadata": {},
   "outputs": [],
   "source": [
    "# Generar un informe detallado de los datos\n",
    "profile = ProfileReport(data, title=\"CompleteDataset\", explorative=True)\n",
    "\n",
    "# Guardar el informe en un archivo HTML\n",
    "profile.to_file(\"CompleteDataset.html\")"
   ]
  },
  {
   "cell_type": "code",
   "execution_count": null,
   "id": "a8b31346",
   "metadata": {},
   "outputs": [],
   "source": []
  }
 ],
 "metadata": {
  "kernelspec": {
   "display_name": "Python 3 (ipykernel)",
   "language": "python",
   "name": "python3"
  },
  "language_info": {
   "codemirror_mode": {
    "name": "ipython",
    "version": 3
   },
   "file_extension": ".py",
   "mimetype": "text/x-python",
   "name": "python",
   "nbconvert_exporter": "python",
   "pygments_lexer": "ipython3",
   "version": "3.8.8"
  }
 },
 "nbformat": 4,
 "nbformat_minor": 5
}
